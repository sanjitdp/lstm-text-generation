{
 "nbformat": 4,
 "nbformat_minor": 0,
 "metadata": {
  "colab": {
   "provenance": [],
   "collapsed_sections": []
  },
  "kernelspec": {
   "name": "python3",
   "display_name": "Python 3"
  },
  "language_info": {
   "name": "python"
  },
  "accelerator": "GPU",
  "gpuClass": "standard"
 },
 "cells": [
  {
   "cell_type": "markdown",
   "source": [
    "# Importing Libraries"
   ],
   "metadata": {
    "id": "ZIJ8VowluIDD",
    "pycharm": {
     "name": "#%% md\n"
    }
   }
  },
  {
   "cell_type": "code",
   "source": [
    "import torch\n",
    "import torch.nn as nn\n",
    "import torch.optim as optim\n",
    "import time\n",
    "from tqdm import tqdm\n",
    "import matplotlib.pyplot as plt"
   ],
   "metadata": {
    "id": "rcwjWMjouKQy",
    "pycharm": {
     "name": "#%%\n"
    }
   },
   "execution_count": 1,
   "outputs": []
  },
  {
   "cell_type": "markdown",
   "source": [
    "# Transforming Data"
   ],
   "metadata": {
    "id": "vo5kQFPKuakz",
    "pycharm": {
     "name": "#%% md\n"
    }
   }
  },
  {
   "cell_type": "code",
   "source": [
    "# Set up GPU device\n",
    "device = torch.device(\"cuda\" if torch.cuda.is_available() else \"cpu\")\n",
    "device"
   ],
   "metadata": {
    "colab": {
     "base_uri": "https://localhost:8080/"
    },
    "id": "qzWQGrLTxRtH",
    "outputId": "67c69693-ed0d-4d66-c41a-f0957ab1c67f",
    "pycharm": {
     "name": "#%%\n"
    }
   },
   "execution_count": 2,
   "outputs": [
    {
     "output_type": "execute_result",
     "data": {
      "text/plain": [
       "device(type='cuda')"
      ]
     },
     "metadata": {},
     "execution_count": 2
    }
   ]
  },
  {
   "cell_type": "code",
   "source": [
    "# Read file\n",
    "with open(\"../data/hamlet.txt\") as text_file:\n",
    "  text = text_file.read()"
   ],
   "metadata": {
    "id": "ybzqEJm3usSP",
    "pycharm": {
     "name": "#%%\n"
    }
   },
   "execution_count": 3,
   "outputs": []
  },
  {
   "cell_type": "code",
   "source": [
    "# Create index to character dictionary and vice versa\n",
    "char_to_idx = {}\n",
    "idx_to_char = {}\n",
    "\n",
    "idx = 0\n",
    "for char in text:\n",
    "  if char not in char_to_idx:\n",
    "    char_to_idx[char] = idx\n",
    "    idx_to_char[idx] = char\n",
    "    idx += 1"
   ],
   "metadata": {
    "id": "ZmvJelFZw0Cd",
    "pycharm": {
     "name": "#%%\n"
    }
   },
   "execution_count": 4,
   "outputs": []
  },
  {
   "cell_type": "code",
   "source": [
    "# Change text to character index list\n",
    "text_idx = [char_to_idx[c] for c in text]\n",
    "text_idx = torch.LongTensor(text_idx).unsqueeze(dim=1)\n",
    "\n",
    "# Move data to GPU\n",
    "text_idx = text_idx.to(device)"
   ],
   "metadata": {
    "id": "mmxyWGl1wnrB",
    "pycharm": {
     "name": "#%%\n"
    }
   },
   "execution_count": 5,
   "outputs": []
  },
  {
   "cell_type": "markdown",
   "source": [
    "# Creating Model"
   ],
   "metadata": {
    "id": "UUsQ_F3ExsF1",
    "pycharm": {
     "name": "#%% md\n"
    }
   }
  },
  {
   "cell_type": "code",
   "source": [
    "# Define RNN model\n",
    "class RecurrentNeuralNetwork(nn.Module):\n",
    "    def __init__(self, input_size, output_size, hidden_size, num_layers):\n",
    "        super(RecurrentNeuralNetwork, self).__init__()\n",
    "        self.embedder = nn.Embedding(input_size, input_size)\n",
    "        self.lstm = nn.LSTM(input_size=input_size, hidden_size=hidden_size, num_layers=num_layers)\n",
    "        self.decoder = nn.Linear(hidden_size, output_size)\n",
    "    \n",
    "    def forward(self, input_seq, hidden_state):\n",
    "        input_seq = self.embedder(input_seq)\n",
    "        output, hidden_state = self.lstm(input_seq, hidden_state)\n",
    "        output = self.decoder(output)\n",
    "        return output, (hidden_state[0].detach(), hidden_state[1].detach())"
   ],
   "metadata": {
    "id": "vzDJK_kFxvKX",
    "pycharm": {
     "name": "#%%\n"
    }
   },
   "execution_count": 6,
   "outputs": []
  },
  {
   "cell_type": "code",
   "source": [
    "# Create instance of model on GPU\n",
    "model = RecurrentNeuralNetwork(input_size=len(char_to_idx), output_size=len(char_to_idx), hidden_size=512, num_layers=3)\n",
    "model = model.to(device)"
   ],
   "metadata": {
    "id": "myQF9hFJybEI",
    "pycharm": {
     "name": "#%%\n"
    }
   },
   "execution_count": 7,
   "outputs": []
  },
  {
   "cell_type": "markdown",
   "source": [
    "# Training Model"
   ],
   "metadata": {
    "id": "G1BIjdYTFjWZ",
    "pycharm": {
     "name": "#%% md\n"
    }
   }
  },
  {
   "cell_type": "code",
   "source": [
    "# Choose loss function and optimizer\n",
    "loss_fn = nn.CrossEntropyLoss()\n",
    "optimizer = optim.Adam(model.parameters(), lr=0.001)"
   ],
   "metadata": {
    "id": "prKEPiK33Py8",
    "pycharm": {
     "name": "#%%\n"
    }
   },
   "execution_count": 8,
   "outputs": []
  },
  {
   "cell_type": "code",
   "source": [
    "# Define number of epochs and length of sequence used in RNN\n",
    "epochs = 25\n",
    "len_sequence = 100\n",
    "\n",
    "# Mark start time for training\n",
    "start_time = time.time()\n",
    "\n",
    "# Training loop\n",
    "for epoch in range(epochs):\n",
    "  print(f\"--------------------\\nEPOCH: {epoch+1}\\n--------------------\")\n",
    "\n",
    "  # Initialize running loss and hidden state\n",
    "  running_loss = 0\n",
    "  hidden_state = None\n",
    "\n",
    "  start_points = range(torch.randint(high=100, size=(1,)).item(), len(text) - len_sequence, len_sequence)\n",
    "\n",
    "  for start in tqdm(start_points):\n",
    "    # Define predictor and response\n",
    "    predictor = text_idx[start:start+len_sequence]\n",
    "    response = text_idx[start+1:start+len_sequence+1]\n",
    "\n",
    "    # Predict and compute loss\n",
    "    prediction, hidden_state = model(predictor, hidden_state)\n",
    "    loss = loss_fn(torch.squeeze(prediction), torch.squeeze(response))\n",
    "\n",
    "    # Add to running loss\n",
    "    running_loss += loss.item()\n",
    "    \n",
    "    # Backpropagate to learn weights\n",
    "    optimizer.zero_grad()\n",
    "    loss.backward()\n",
    "    optimizer.step()\n",
    "  \n",
    "  print(f\"Avg. Training Loss: {running_loss/len(start_points):>7f}\\n\")\n",
    "\n",
    "  print(\"Sample Text:\")\n",
    "  print(\"-----------\")\n",
    "  \n",
    "  # Initialize hidden state and input text\n",
    "  hidden_state = None\n",
    "  random_index = torch.randint(high=len(text)-1, size=(1,)).item()\n",
    "  input = text_idx[random_index:random_index+1]\n",
    "\n",
    "  # Sample text loop\n",
    "  for i in range(200):\n",
    "      # Compute model output\n",
    "      logits, hidden_state = model(input, hidden_state)\n",
    "\n",
    "      # Take softmax to compute probability distribution for next letter and sample\n",
    "      probabilities = nn.functional.softmax(torch.squeeze(logits), dim=0)\n",
    "      distribution = torch.distributions.Categorical(probabilities)\n",
    "      index = distribution.sample()\n",
    "      \n",
    "      # Print predicted character\n",
    "      print(idx_to_char[index.item()], end='')\n",
    "      \n",
    "      # Set next input to model\n",
    "      input[0][0] = index.item()\n",
    "      \n",
    "  print(\"\\n-----------\\n\")\n",
    "  print(f\"Time: {time.time()-start_time:>2f} seconds\\n\")"
   ],
   "metadata": {
    "colab": {
     "base_uri": "https://localhost:8080/"
    },
    "id": "qxDNeSH3zxLc",
    "outputId": "247f9802-93e2-47b3-bbaa-bc5d5aa2e36f",
    "pycharm": {
     "name": "#%%\n"
    }
   },
   "execution_count": 9,
   "outputs": [
    {
     "output_type": "stream",
     "name": "stdout",
     "text": [
      "--------------------\n",
      "EPOCH: 1\n",
      "--------------------\n"
     ]
    },
    {
     "output_type": "stream",
     "name": "stderr",
     "text": [
      "100%|██████████| 1764/1764 [00:29<00:00, 59.02it/s]\n"
     ]
    },
    {
     "output_type": "stream",
     "name": "stdout",
     "text": [
      "Avg. Training Loss: 2.086561\n",
      "\n",
      "Sample Text:\n",
      "-----------\n",
      "adys\n",
      "(And well th' Kind, th' els proclands\n",
      "With be a woulls too past us to some.\n",
      "Then brove all solzows pate now eDculceen and loage\n",
      "Be shreest th est ut.\n",
      "\n",
      "HORATIO\n",
      "A a rimife more imisciemence,\n",
      "Worm i\n",
      "-----------\n",
      "\n",
      "Time: 30.206736 seconds\n",
      "\n",
      "--------------------\n",
      "EPOCH: 2\n",
      "--------------------\n"
     ]
    },
    {
     "output_type": "stream",
     "name": "stderr",
     "text": [
      "100%|██████████| 1764/1764 [00:28<00:00, 60.96it/s]\n"
     ]
    },
    {
     "output_type": "stream",
     "name": "stdout",
     "text": [
      "Avg. Training Loss: 1.577879\n",
      "\n",
      "Sample Text:\n",
      "-----------\n",
      "ts it very\n",
      "And upon make a stand to more e'es,\n",
      "treasuly meantly in the dought man's\n",
      "unlight thy chard by Dewing,\n",
      "Which fear this kills on commandy. Which halred?\n",
      "What I fat. Come, in a sorrice and\n",
      "I d\n",
      "-----------\n",
      "\n",
      "Time: 59.459765 seconds\n",
      "\n",
      "--------------------\n",
      "EPOCH: 3\n",
      "--------------------\n"
     ]
    },
    {
     "output_type": "stream",
     "name": "stderr",
     "text": [
      "100%|██████████| 1764/1764 [00:29<00:00, 60.46it/s]\n"
     ]
    },
    {
     "output_type": "stream",
     "name": "stdout",
     "text": [
      "Avg. Training Loss: 1.406185\n",
      "\n",
      "Sample Text:\n",
      "-----------\n",
      "her\n",
      "As Officension, sir, for you that to I\n",
      "As it is bearm\n",
      "Within his wookly be rise, albanged amother\n",
      "Treason.\n",
      "But, 'tis case peecome come are\n",
      "me; let be Burasady sfill of Guildenstern\n",
      "]nde mady imagi\n",
      "-----------\n",
      "\n",
      "Time: 88.933344 seconds\n",
      "\n",
      "--------------------\n",
      "EPOCH: 4\n",
      "--------------------\n"
     ]
    },
    {
     "output_type": "stream",
     "name": "stderr",
     "text": [
      "100%|██████████| 1764/1764 [00:29<00:00, 60.15it/s]\n"
     ]
    },
    {
     "output_type": "stream",
     "name": "stdout",
     "text": [
      "Avg. Training Loss: 1.281226\n",
      "\n",
      "Sample Text:\n",
      "-----------\n",
      "ards\" is now?\n",
      "[Forcing given too lord the irtures in beald\n",
      "with whitiers?\n",
      "\n",
      "DARSELD  No more. [Hamlet dild?\n",
      "\n",
      "LAERTES\n",
      "Now die this saction?\n",
      "\n",
      "HORATIO\n",
      "Abtemand chancel;, do not from a boor\",\n",
      "And lear thou\n",
      "-----------\n",
      "\n",
      "Time: 118.559969 seconds\n",
      "\n",
      "--------------------\n",
      "EPOCH: 5\n",
      "--------------------\n"
     ]
    },
    {
     "output_type": "stream",
     "name": "stderr",
     "text": [
      "100%|██████████| 1765/1765 [00:29<00:00, 60.23it/s]\n"
     ]
    },
    {
     "output_type": "stream",
     "name": "stdout",
     "text": [
      "Avg. Training Loss: 1.169284\n",
      "\n",
      "Sample Text:\n",
      "-----------\n",
      "housand brocked from England distally\n",
      "ephels me wrhessower to you avoid laid quiclity belodies.\n",
      "Woo't cup in this warlike worn.\n",
      "I have some given my patiecy.]\n",
      "And this matter in me sayligal pass of\n",
      "sp\n",
      "-----------\n",
      "\n",
      "Time: 148.168237 seconds\n",
      "\n",
      "--------------------\n",
      "EPOCH: 6\n",
      "--------------------\n"
     ]
    },
    {
     "output_type": "stream",
     "name": "stderr",
     "text": [
      "100%|██████████| 1764/1764 [00:29<00:00, 60.35it/s]\n"
     ]
    },
    {
     "output_type": "stream",
     "name": "stdout",
     "text": [
      "Avg. Training Loss: 1.059887\n",
      "\n",
      "Sample Text:\n",
      "-----------\n",
      "I business is\n",
      "meet.\n",
      "Sired thee world I drink to the rests, are come about\n",
      "The drink. Such envious is clastes come nothing to use dead.\n",
      "But write a stoupless away (as killed,\n",
      "That not between in an env\n",
      "-----------\n",
      "\n",
      "Time: 177.704068 seconds\n",
      "\n",
      "--------------------\n",
      "EPOCH: 7\n",
      "--------------------\n"
     ]
    },
    {
     "output_type": "stream",
     "name": "stderr",
     "text": [
      "100%|██████████| 1764/1764 [00:29<00:00, 60.22it/s]\n"
     ]
    },
    {
     "output_type": "stream",
     "name": "stdout",
     "text": [
      "Avg. Training Loss: 0.951456\n",
      "\n",
      "Sample Text:\n",
      "-----------\n",
      "ere?\n",
      "\n",
      "HORATIO\n",
      "He put on himself dround Hamlet, Laertes?\n",
      "[Hamlet is leaves will shows thee quick and generous,\n",
      "The conscience he time is too much of!-\n",
      "He does the news put on the King, O, as I this bro\n",
      "-----------\n",
      "\n",
      "Time: 207.290758 seconds\n",
      "\n",
      "--------------------\n",
      "EPOCH: 8\n",
      "--------------------\n"
     ]
    },
    {
     "output_type": "stream",
     "name": "stderr",
     "text": [
      "100%|██████████| 1764/1764 [00:29<00:00, 60.34it/s]\n"
     ]
    },
    {
     "output_type": "stream",
     "name": "stdout",
     "text": [
      "Avg. Training Loss: 0.854851\n",
      "\n",
      "Sample Text:\n",
      "-----------\n",
      "a standy of\n",
      "mother's death.\n",
      "An ill not I love oney cup.\n",
      "\n",
      "LAERTES  No, by him! Hold on\n",
      "calendar, come again.\n",
      "\n",
      "FORNINBRAS  Let us madness?\n",
      "But fair and wager by our life;\n",
      "I'll receive your purposes hear\n",
      "-----------\n",
      "\n",
      "Time: 236.819829 seconds\n",
      "\n",
      "--------------------\n",
      "EPOCH: 9\n",
      "--------------------\n"
     ]
    },
    {
     "output_type": "stream",
     "name": "stderr",
     "text": [
      "100%|██████████| 1764/1764 [00:29<00:00, 60.29it/s]\n"
     ]
    },
    {
     "output_type": "stream",
     "name": "stdout",
     "text": [
      "Avg. Training Loss: 0.770478\n",
      "\n",
      "Sample Text:\n",
      "-----------\n",
      "d him before a stage,\n",
      "Th' carriages\n",
      "Of mighty instrument very pall,\n",
      "No beast that on th' other flourish.]\n",
      "I pray you, good Horatio?--Stay, you\n",
      "shall live a great remains air; are a\n",
      "sertains, and o! th\n",
      "-----------\n",
      "\n",
      "Time: 266.393479 seconds\n",
      "\n",
      "--------------------\n",
      "EPOCH: 10\n",
      "--------------------\n"
     ]
    },
    {
     "output_type": "stream",
     "name": "stderr",
     "text": [
      "100%|██████████| 1764/1764 [00:29<00:00, 60.35it/s]\n"
     ]
    },
    {
     "output_type": "stream",
     "name": "stdout",
     "text": [
      "Avg. Training Loss: 0.693877\n",
      "\n",
      "Sample Text:\n",
      "-----------\n",
      "'s some\n",
      "Chaper of me.\n",
      "[Fortinbras within.]\n",
      "Why does to heaven these free us did\n",
      "And forbigions, shippright sizt? A pearl come; I will\n",
      "come too much-meats their open come pardon,\n",
      "That look most generou\n",
      "-----------\n",
      "\n",
      "Time: 295.921333 seconds\n",
      "\n",
      "--------------------\n",
      "EPOCH: 11\n",
      "--------------------\n"
     ]
    },
    {
     "output_type": "stream",
     "name": "stderr",
     "text": [
      "100%|██████████| 1764/1764 [00:29<00:00, 60.40it/s]\n"
     ]
    },
    {
     "output_type": "stream",
     "name": "stdout",
     "text": [
      "Avg. Training Loss: 0.632344\n",
      "\n",
      "Sample Text:\n",
      "-----------\n",
      "ights, sweet lord,\n",
      "Your leave to this fit, and that thou hears Hamlet\n",
      "To who come from England come too treadly,\n",
      "No manove, ho, the drink, the heavens\n",
      "Which happy commission. Is thy you contenance.\n",
      "Th\n",
      "-----------\n",
      "\n",
      "Time: 325.421635 seconds\n",
      "\n",
      "--------------------\n",
      "EPOCH: 12\n",
      "--------------------\n"
     ]
    },
    {
     "output_type": "stream",
     "name": "stderr",
     "text": [
      "100%|██████████| 1765/1765 [00:29<00:00, 60.22it/s]\n"
     ]
    },
    {
     "output_type": "stream",
     "name": "stdout",
     "text": [
      "Avg. Training Loss: 0.584163\n",
      "\n",
      "Sample Text:\n",
      "-----------\n",
      "rains,\n",
      "Why do what he supst trace try sight,\n",
      "She changeling poison quite ground,\n",
      "The instant, she would skin his should deliveral circh\n",
      "Than is to blame.--Hamlet is too late.\n",
      "\n",
      "HAMLET  O, I die, Horati\n",
      "-----------\n",
      "\n",
      "Time: 355.015796 seconds\n",
      "\n",
      "--------------------\n",
      "EPOCH: 13\n",
      "--------------------\n"
     ]
    },
    {
     "output_type": "stream",
     "name": "stderr",
     "text": [
      "100%|██████████| 1764/1764 [00:29<00:00, 60.32it/s]\n"
     ]
    },
    {
     "output_type": "stream",
     "name": "stdout",
     "text": [
      "Avg. Training Loss: 0.545516\n",
      "\n",
      "Sample Text:\n",
      "-----------\n",
      "bf,\n",
      "OT, good Horatio, with functions, Horatio,\n",
      "That, O, for his medice a kind of great\n",
      "article, had he come again, making count'ners,\n",
      "But till hear this harsh we will--\n",
      "They change thy fortune, Hamlet\n",
      "-----------\n",
      "\n",
      "Time: 384.559923 seconds\n",
      "\n",
      "--------------------\n",
      "EPOCH: 14\n",
      "--------------------\n"
     ]
    },
    {
     "output_type": "stream",
     "name": "stderr",
     "text": [
      "100%|██████████| 1764/1764 [00:29<00:00, 60.34it/s]\n"
     ]
    },
    {
     "output_type": "stream",
     "name": "stdout",
     "text": [
      "Avg. Training Loss: 0.516622\n",
      "\n",
      "Sample Text:\n",
      "-----------\n",
      "eads: and for myself,\n",
      "The changeliness is else for such a new commission,\n",
      "He seems to the thirds flesh and my heart.\n",
      "The hand more unsigned buy, as England was 'a\n",
      "falses, and Ophelia.\n",
      "That thou wilt t\n",
      "-----------\n",
      "\n",
      "Time: 414.095251 seconds\n",
      "\n",
      "--------------------\n",
      "EPOCH: 15\n",
      "--------------------\n"
     ]
    },
    {
     "output_type": "stream",
     "name": "stderr",
     "text": [
      "100%|██████████| 1765/1765 [00:29<00:00, 60.33it/s]\n"
     ]
    },
    {
     "output_type": "stream",
     "name": "stdout",
     "text": [
      "Avg. Training Loss: 0.493740\n",
      "\n",
      "Sample Text:\n",
      "-----------\n",
      "r him\n",
      "about my closely best as I.\n",
      "Sit on havior, and you have done\n",
      "That leave to See-footed it.\n",
      "Take this galled flocks of secrece, which, six\n",
      "Does nobile on all the grings.\n",
      "\n",
      "HORATIO\n",
      "What is he rots t\n",
      "-----------\n",
      "\n",
      "Time: 443.646172 seconds\n",
      "\n",
      "--------------------\n",
      "EPOCH: 16\n",
      "--------------------\n"
     ]
    },
    {
     "output_type": "stream",
     "name": "stderr",
     "text": [
      "100%|██████████| 1764/1764 [00:29<00:00, 60.36it/s]\n"
     ]
    },
    {
     "output_type": "stream",
     "name": "stdout",
     "text": [
      "Avg. Training Loss: 0.484298\n",
      "\n",
      "Sample Text:\n",
      "-----------\n",
      "rows-There's thing?\n",
      "\n",
      "LAERTES\n",
      "Good now you play.\n",
      "\n",
      "LAERTES  He is justly served\n",
      "Uss it will. Let, the drum most grands.\n",
      "[All but Hamlet and Laertes.]\n",
      "\n",
      "\n",
      "KING\n",
      "No, my dear Guildenstern are disclosed.\n",
      "\n",
      "HAML\n",
      "-----------\n",
      "\n",
      "Time: 473.172278 seconds\n",
      "\n",
      "--------------------\n",
      "EPOCH: 17\n",
      "--------------------\n"
     ]
    },
    {
     "output_type": "stream",
     "name": "stderr",
     "text": [
      "100%|██████████| 1764/1764 [00:29<00:00, 60.22it/s]\n"
     ]
    },
    {
     "output_type": "stream",
     "name": "stdout",
     "text": [
      "Avg. Training Loss: 0.464193\n",
      "\n",
      "Sample Text:\n",
      "-----------\n",
      "ld have worn.\n",
      "But so, our thanks are of livery or nine your presence.\n",
      "I am afeard a combless of memory in this box,\n",
      "Or I will gain nothing but much too late.\n",
      "This majesty shall be love of the wind\n",
      "And\n",
      "-----------\n",
      "\n",
      "Time: 502.771466 seconds\n",
      "\n",
      "--------------------\n",
      "EPOCH: 18\n",
      "--------------------\n"
     ]
    },
    {
     "output_type": "stream",
     "name": "stderr",
     "text": [
      "100%|██████████| 1764/1764 [00:29<00:00, 60.30it/s]\n"
     ]
    },
    {
     "output_type": "stream",
     "name": "stdout",
     "text": [
      "Avg. Training Loss: 0.465341\n",
      "\n",
      "Sample Text:\n",
      "-----------\n",
      "d him) bount,\n",
      "That for my father's signet in this chance,\n",
      "Or fbranks to collection. They aid voice, proceeds a flourish,\n",
      "As patient of woe on the house, in manners, wish\n",
      "this silence, the opposition s\n",
      "-----------\n",
      "\n",
      "Time: 532.318329 seconds\n",
      "\n",
      "--------------------\n",
      "EPOCH: 19\n",
      "--------------------\n"
     ]
    },
    {
     "output_type": "stream",
     "name": "stderr",
     "text": [
      "100%|██████████| 1764/1764 [00:29<00:00, 60.35it/s]\n"
     ]
    },
    {
     "output_type": "stream",
     "name": "stdout",
     "text": [
      "Avg. Training Loss: 0.454940\n",
      "\n",
      "Sample Text:\n",
      "-----------\n",
      " Rricks on the understand in thy hand\n",
      "Ti the true frankly places apreacherous, thoughts\n",
      "His seep and are or eye,\n",
      "If she here shows and received him to your\n",
      "pleasure hold to play with little.\n",
      "\n",
      "KING  He\n",
      "-----------\n",
      "\n",
      "Time: 561.839356 seconds\n",
      "\n",
      "--------------------\n",
      "EPOCH: 20\n",
      "--------------------\n"
     ]
    },
    {
     "output_type": "stream",
     "name": "stderr",
     "text": [
      "100%|██████████| 1764/1764 [00:29<00:00, 60.27it/s]\n"
     ]
    },
    {
     "output_type": "stream",
     "name": "stdout",
     "text": [
      "Avg. Training Loss: 0.440798\n",
      "\n",
      "Sample Text:\n",
      "-----------\n",
      "rded his fine\n",
      "fanged, and as paint O course his piccosed,\n",
      "Here and willingly I do think, he in habit against me\n",
      "back to play. His head and there his mortal\n",
      "rust remorsement for their thoughts;\n",
      "Their a\n",
      "-----------\n",
      "\n",
      "Time: 591.403893 seconds\n",
      "\n",
      "--------------------\n",
      "EPOCH: 21\n",
      "--------------------\n"
     ]
    },
    {
     "output_type": "stream",
     "name": "stderr",
     "text": [
      "100%|██████████| 1764/1764 [00:29<00:00, 60.26it/s]\n"
     ]
    },
    {
     "output_type": "stream",
     "name": "stdout",
     "text": [
      "Avg. Training Loss: 0.451135\n",
      "\n",
      "Sample Text:\n",
      "-----------\n",
      "n for this fellow.--\n",
      "Whose do you, sir.\t[Play.]\n",
      "\n",
      "OSRIC  Now, Horatio!\n",
      "They say you pardon me.\t[She drinks.]\n",
      "\n",
      "KING  Let go! This fellow me so.\n",
      "\n",
      "MARCELLUS  Look like a man\n",
      "As there arrive commandment to\n",
      "-----------\n",
      "\n",
      "Time: 620.974036 seconds\n",
      "\n",
      "--------------------\n",
      "EPOCH: 22\n",
      "--------------------\n"
     ]
    },
    {
     "output_type": "stream",
     "name": "stderr",
     "text": [
      "100%|██████████| 1764/1764 [00:29<00:00, 60.38it/s]\n"
     ]
    },
    {
     "output_type": "stream",
     "name": "stdout",
     "text": [
      "Avg. Training Loss: 0.444580\n",
      "\n",
      "Sample Text:\n",
      "-----------\n",
      "d have no more ambition\n",
      "it is exalve forecul. He much, the\n",
      "King's jester.  He does well to Horat.\n",
      "Then Hamlet give thee the matter.]\n",
      "\n",
      "\n",
      "LAERTES  How i' the Dainting to Poluck, and you\n",
      "\"Why demand his f\n",
      "-----------\n",
      "\n",
      "Time: 650.485246 seconds\n",
      "\n",
      "--------------------\n",
      "EPOCH: 23\n",
      "--------------------\n"
     ]
    },
    {
     "output_type": "stream",
     "name": "stderr",
     "text": [
      "100%|██████████| 1765/1765 [00:29<00:00, 60.37it/s]\n"
     ]
    },
    {
     "output_type": "stream",
     "name": "stdout",
     "text": [
      "Avg. Training Loss: 0.445431\n",
      "\n",
      "Sample Text:\n",
      "-----------\n",
      "r forced cause,\n",
      "And, if thou prate of mountains, 'tis\n",
      "Hamlet. Then she is mad, I pray you live.\n",
      "If not, you must well.\t[All thou 'rst soul.\n",
      "The praces do, that, I hope, will sir that you have of\n",
      "enven\n",
      "-----------\n",
      "\n",
      "Time: 680.018812 seconds\n",
      "\n",
      "--------------------\n",
      "EPOCH: 24\n",
      "--------------------\n"
     ]
    },
    {
     "output_type": "stream",
     "name": "stderr",
     "text": [
      "100%|██████████| 1765/1765 [00:29<00:00, 60.33it/s]\n"
     ]
    },
    {
     "output_type": "stream",
     "name": "stdout",
     "text": [
      "Avg. Training Loss: 0.454063\n",
      "\n",
      "Sample Text:\n",
      "-----------\n",
      "ow,\n",
      "An end on his answer of the poison of day,\n",
      "Have a starr's figures, Ol them step its world be\n",
      "now; I die those light now himself\n",
      "his visitaty in his plemy troble to this\n",
      "Becomes, again, in pander. \n",
      "-----------\n",
      "\n",
      "Time: 709.561344 seconds\n",
      "\n",
      "--------------------\n",
      "EPOCH: 25\n",
      "--------------------\n"
     ]
    },
    {
     "output_type": "stream",
     "name": "stderr",
     "text": [
      "100%|██████████| 1764/1764 [00:29<00:00, 60.23it/s]\n"
     ]
    },
    {
     "output_type": "stream",
     "name": "stdout",
     "text": [
      "Avg. Training Loss: 0.441207\n",
      "\n",
      "Sample Text:\n",
      "-----------\n",
      ";\n",
      "And that in the boisticious foul rule,\n",
      "And our solemn diation 't; the King died,\n",
      "And in this o'erstand's trophet.\n",
      "\n",
      "OSRIC  She should be all this speak.\n",
      "\n",
      "HAMLET\n",
      "Hic excellent conjolver my true and st\n",
      "-----------\n",
      "\n",
      "Time: 739.142098 seconds\n",
      "\n"
     ]
    }
   ]
  },
  {
   "cell_type": "code",
   "source": [
    "# Save model parameters\n",
    "print(\"Saving model...\")\n",
    "torch.save(model, \"../trained_models/hamlet_rnn\")\n",
    "\n",
    "print(\"Done!\")"
   ],
   "metadata": {
    "colab": {
     "base_uri": "https://localhost:8080/"
    },
    "id": "KFYi57m_22Z0",
    "outputId": "49c71a8b-6000-4d09-f0d4-c3378705c53a",
    "pycharm": {
     "name": "#%%\n"
    }
   },
   "execution_count": 10,
   "outputs": [
    {
     "output_type": "stream",
     "name": "stdout",
     "text": [
      "Saving model...\n",
      "Done!\n"
     ]
    }
   ]
  }
 ]
}